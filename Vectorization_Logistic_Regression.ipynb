{
  "nbformat": 4,
  "nbformat_minor": 0,
  "metadata": {
    "colab": {
      "name": "Vectorization Logistic Regression.ipynb",
      "provenance": [],
      "collapsed_sections": [],
      "authorship_tag": "ABX9TyPBeb1f212zX9GB1jsaNSEs",
      "include_colab_link": true
    },
    "kernelspec": {
      "name": "python3",
      "display_name": "Python 3"
    },
    "language_info": {
      "name": "python"
    }
  },
  "cells": [
    {
      "cell_type": "markdown",
      "metadata": {
        "id": "view-in-github",
        "colab_type": "text"
      },
      "source": [
        "<a href=\"https://colab.research.google.com/github/jeniffernayoung/portfolio/blob/main/Vectorization_Logistic_Regression.ipynb\" target=\"_parent\"><img src=\"https://colab.research.google.com/assets/colab-badge.svg\" alt=\"Open In Colab\"/></a>"
      ]
    },
    {
      "cell_type": "markdown",
      "source": [
        "#Vectorization Logistic Regression"
      ],
      "metadata": {
        "id": "7nwlEOORnDRQ"
      }
    },
    {
      "cell_type": "markdown",
      "source": [
        "로지스틱 회귀를 벡터화하여 경사 하강법의 한 반복문에서 for 구문을 하나도 쓰지 않고 구현"
      ],
      "metadata": {
        "id": "pUSfjXdItXC1"
      }
    },
    {
      "cell_type": "markdown",
      "source": [
        "## 전방향 전파"
      ],
      "metadata": {
        "id": "YrHdkQWEtkmt"
      }
    },
    {
      "cell_type": "markdown",
      "source": [
        "m개의 훈련 샘플이 있을 처음 샘플을 예측하기"
      ],
      "metadata": {
        "id": "9TllhcWTxOB1"
      }
    },
    {
      "cell_type": "markdown",
      "source": [
        "1.   처음 샘플 예측하기 \n",
        "\n",
        "\n",
        "$$Z^{(1)} = w^Tx^{(1)} + b$$\n",
        "$$a^{(1)} = σ(z^{(1)})$$\n"
      ],
      "metadata": {
        "id": "FwlrbXuGwvtE"
      }
    },
    {
      "cell_type": "markdown",
      "source": [
        "2. 두번째 샘플 예측\n",
        "\n",
        "$$Z^{(2)} = w^Tx^{(2)} + b$$\n",
        "$$a^{(2)} = σ(z^{(2)})$$\n"
      ],
      "metadata": {
        "id": "NNB6brq80nTb"
      }
    },
    {
      "cell_type": "markdown",
      "source": [
        "3. 세번째 샘플 예측\n",
        "\n",
        "$$Z^{(3)} = w^Tx^{(3)} + b$$\n",
        "$$a^{(3)} = σ(z^{(3)})$$\n"
      ],
      "metadata": {
        "id": "sohWy2Jh1HQr"
      }
    },
    {
      "cell_type": "markdown",
      "source": [
        "\n",
        "\n",
        "*   계산 방법\n",
        "\n",
        "1.   Z값 계산\n",
        "2.   a 활성값 계산\n",
        "3.   y값 예측\n",
        "\n",
        "\n",
        "$$Z^{(m)} = w^Tx^{(m)} + b$$\n",
        "$$a^{(m)} = σ(z^{(m)})$$\n",
        "\n",
        "위의 공식은 m개의 훈련 샘플이 있을 처음 샘플을 예측하고, m개의 훈련 샘플이 있다면 이것을 m번까지 해야된다"
      ],
      "metadata": {
        "id": "8P8IKutdzX3t"
      }
    },
    {
      "cell_type": "markdown",
      "source": [
        "### for 문 없이 계산하는 방법"
      ],
      "metadata": {
        "id": "bEEIFxCM2oTc"
      }
    },
    {
      "cell_type": "markdown",
      "source": [
        "전방향 전파는 m개의 훈련 샘플에 대해 예측 값을 계산하지만 이젠 for 문 없이 계산하는 방법을 사용 할 것이다."
      ],
      "metadata": {
        "id": "to8ukt3j20Se"
      }
    },
    {
      "cell_type": "markdown",
      "source": [
        "*   X는 훈련 입력을 열로 쌓은 행렬\n",
        "\n",
        "$X =\n",
        " \\begin{pmatrix}\n",
        "  \\vdots &\\vdots &          & \\vdots\\\\\n",
        "  x^{(1)} &x^{(2)} & \\cdots & x^{(m)} \\\\\n",
        "  \\vdots  &\\vdots &         & \\vdots \\\\\n",
        "  \\end{pmatrix}$\n",
        "\n",
        "\n"
      ],
      "metadata": {
        "id": "V4KsE_lq6QyK"
      }
    },
    {
      "cell_type": "markdown",
      "source": [
        "*   X는 n_x행 m열 행렬\n",
        "\n",
        "$$\\frac{n_{xm}}{\\mathbb{R}^{n_xm}}$$\n",
        "\n"
      ],
      "metadata": {
        "id": "xpN6Wat27YFC"
      }
    },
    {
      "cell_type": "markdown",
      "source": [
        "\n",
        "\n",
        "$w^T =\n",
        " \\begin{pmatrix}\n",
        "  \\vdots &\\vdots &          & \\vdots\\\\\n",
        "  x^{(1)} &x^{(2)} & \\cdots & x^{(m)} \\\\\n",
        "  \\vdots  &\\vdots &         & \\vdots \\\\\n",
        "  \\end{pmatrix}$\n",
        "\n",
        "\n",
        "\n"
      ],
      "metadata": {
        "id": "iJvIgVp6Bufx"
      }
    },
    {
      "cell_type": "code",
      "source": [
        ""
      ],
      "metadata": {
        "id": "AqwDXtYfwu-W"
      },
      "execution_count": null,
      "outputs": []
    }
  ]
}