{
  "nbformat": 4,
  "nbformat_minor": 0,
  "metadata": {
    "colab": {
      "name": "Vectorization Logistic Regression.ipynb",
      "provenance": [],
      "collapsed_sections": [],
      "authorship_tag": "ABX9TyNKhz7OalAm/inYJDEur2vy",
      "include_colab_link": true
    },
    "kernelspec": {
      "name": "python3",
      "display_name": "Python 3"
    },
    "language_info": {
      "name": "python"
    }
  },
  "cells": [
    {
      "cell_type": "markdown",
      "metadata": {
        "id": "view-in-github",
        "colab_type": "text"
      },
      "source": [
        "<a href=\"https://colab.research.google.com/github/jeniffernayoung/portfolio/blob/main/Vectorization_Logistic_Regression.ipynb\" target=\"_parent\"><img src=\"https://colab.research.google.com/assets/colab-badge.svg\" alt=\"Open In Colab\"/></a>"
      ]
    },
    {
      "cell_type": "markdown",
      "source": [
        "#Vectorization Logistic Regression"
      ],
      "metadata": {
        "id": "7nwlEOORnDRQ"
      }
    },
    {
      "cell_type": "markdown",
      "source": [
        "로지스틱 회귀를 벡터화하여 경사 하강법의 한 반복문에서 for 구문을 하나도 쓰지 않고 구현"
      ],
      "metadata": {
        "id": "pUSfjXdItXC1"
      }
    },
    {
      "cell_type": "markdown",
      "source": [
        "## 전방향 전파"
      ],
      "metadata": {
        "id": "YrHdkQWEtkmt"
      }
    },
    {
      "cell_type": "markdown",
      "source": [
        "m개의 훈련 샘플이 있을 처음 샘플을 예측하기"
      ],
      "metadata": {
        "id": "9TllhcWTxOB1"
      }
    },
    {
      "cell_type": "markdown",
      "source": [
        "1.   처음 샘플 예측하기 \n",
        "\n",
        "\n",
        "$$Z^{(1)} = w^Tx^{(1)} + b$$\n",
        "$$a^{(1)} = σ(z^{(1)})$$\n"
      ],
      "metadata": {
        "id": "FwlrbXuGwvtE"
      }
    },
    {
      "cell_type": "markdown",
      "source": [
        "2. 두번째 샘플 예측\n",
        "\n",
        "$$Z^{(2)} = w^Tx^{(2)} + b$$\n",
        "$$a^{(2)} = σ(z^{(2)})$$\n"
      ],
      "metadata": {
        "id": "NNB6brq80nTb"
      }
    },
    {
      "cell_type": "markdown",
      "source": [
        "3. 세번째 샘플 예측\n",
        "\n",
        "$$Z^{(3)} = w^Tx^{(3)} + b$$\n",
        "$$a^{(3)} = σ(z^{(3)})$$\n"
      ],
      "metadata": {
        "id": "sohWy2Jh1HQr"
      }
    },
    {
      "cell_type": "markdown",
      "source": [
        "\n",
        "\n",
        "*   계산 방법\n",
        "\n",
        "1.   Z값 계산\n",
        "2.   a 활성값 계산\n",
        "3.   y값 예측\n",
        "\n",
        "\n",
        "$$Z^{(m)} = w^Tx^{(m)} + b$$\n",
        "$$a^{(m)} = σ(z^{(m)})$$\n",
        "\n",
        "위의 공식은 m개의 훈련 샘플이 있을 처음 샘플을 예측하고, m개의 훈련 샘플이 있다면 이것을 m번까지 해야된다"
      ],
      "metadata": {
        "id": "8P8IKutdzX3t"
      }
    },
    {
      "cell_type": "markdown",
      "source": [
        "### for 문 없이 계산하는 방법"
      ],
      "metadata": {
        "id": "bEEIFxCM2oTc"
      }
    },
    {
      "cell_type": "markdown",
      "source": [
        "전방향 전파는 m개의 훈련 샘플에 대해 예측 값을 계산하지만 이젠 for 문 없이 계산하는 방법을 사용 할 것이다."
      ],
      "metadata": {
        "id": "to8ukt3j20Se"
      }
    },
    {
      "cell_type": "markdown",
      "source": [
        "![Vectorizing Logistic Regression.png](data:image/png;base64,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)"
      ],
      "metadata": {
        "id": "2WJfK2ckdM78"
      }
    },
    {
      "cell_type": "markdown",
      "source": [
        "위 그림을 하나하나 씩 떼어서 설명을 할 것이다. "
      ],
      "metadata": {
        "id": "SKjZtOEedfJL"
      }
    },
    {
      "cell_type": "markdown",
      "source": [
        "#### X는 훈련 입력을 열로 쌓은 행렬이다\n",
        "\n",
        "$X =\n",
        " \\begin{pmatrix}\n",
        "  \\vdots &\\vdots &          & \\vdots\\\\\n",
        "  x^{(1)} &x^{(2)} & \\cdots & x^{(m)} \\\\\n",
        "  \\vdots  &\\vdots &         & \\vdots \\\\\n",
        "  \\end{pmatrix}$\n",
        "\n",
        "\n"
      ],
      "metadata": {
        "id": "V4KsE_lq6QyK"
      }
    },
    {
      "cell_type": "markdown",
      "source": [
        "*   X을 파이썬 Numpy 방식으로 썼으며, X가 (n_x, m)차원 행렬이라는 것을 보여준다\n",
        "\n",
        "$$\\frac{n_{xm}}{\\mathbb{R}^{n_xm}}$$\n",
        "\n"
      ],
      "metadata": {
        "id": "xpN6Wat27YFC"
      }
    },
    {
      "cell_type": "markdown",
      "source": [
        ""
      ],
      "metadata": {
        "id": "YoiWwwCQfALL"
      }
    },
    {
      "cell_type": "markdown",
      "source": [
        "\n",
        "\n",
        "$w^T =\n",
        " \\begin{pmatrix}\n",
        "  \\vdots &\\vdots &          & \\vdots\\\\\n",
        "  x^{(1)} &x^{(2)} & \\cdots & x^{(m)} \\\\\n",
        "  \\vdots  &\\vdots &         & \\vdots \\\\\n",
        "  \\end{pmatrix}$\n",
        "\n",
        "\n",
        "\n"
      ],
      "metadata": {
        "id": "iJvIgVp6Bufx"
      }
    },
    {
      "cell_type": "code",
      "source": [
        ""
      ],
      "metadata": {
        "id": "AqwDXtYfwu-W"
      },
      "execution_count": null,
      "outputs": []
    }
  ]
}